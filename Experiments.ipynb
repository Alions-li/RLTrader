{
 "cells": [
  {
   "cell_type": "code",
   "execution_count": null,
   "metadata": {},
   "outputs": [],
   "source": [
    "import pandas as pd\n",
    "\n",
    "df = pd.DataFrame([\n",
    "    { 'a': 0, 'b': 0, 'c': 0 },\n",
    "    { 'a': 2, 'b': 1.5, 'c': 2.5 },\n",
    "    { 'a': 5, 'b': 1.2, 'c': 1 },\n",
    "    { 'a': 1, 'b': 1.1, 'c': 6 },\n",
    "    { 'a': 2.2, 'b': 8, 'c': 0.2 },\n",
    "    { 'a': 2.9, 'b': 0.4, 'c': 0 },\n",
    "])\n",
    "\n",
    "df['normalized_a'] = (df['a'] - df['a'].min()) / (df['a'].max() - df['a'].min())\n",
    "\n",
    "print(df['normalized_a'])\n",
    "\n",
    "from lib.data.features.transform import max_min_normalize\n",
    "\n",
    "df_max_min = max_min_normalize(df)\n",
    "df_max_min_list = max_min_normalize(df.values)\n",
    "\n",
    "print(df_max_min)\n",
    "print(df_max_min_list)"
   ]
  },
  {
   "cell_type": "code",
   "execution_count": null,
   "metadata": {},
   "outputs": [],
   "source": [
    "from lib.data.providers import ProviderDateFormat, StaticDataProvider\n",
    "from lib.data.features.transform import max_min_normalize, log_and_difference\n",
    "\n",
    "data_columns = {'Date': 'Date', 'Open': 'Open', 'High': 'High',\n",
    "                            'Low': 'Low', 'Close': 'Close', 'Volume': 'VolumeFrom'}\n",
    "\n",
    "provider = StaticDataProvider(date_format=ProviderDateFormat.DATETIME_HOUR_24,\n",
    "                              csv_data_path=\"/Users/Adam/Desktop/YouTube/BitcoinTrader/data/input/coinbase-1d-btc-usd.csv\",\n",
    "                              data_columns=data_columns)\n",
    "\n",
    "print(provider.data_frame.head())\n",
    "\n",
    "logged_and_diffed = log_and_difference(provider.data_frame)\n",
    "\n",
    "print(logged_and_diffed.head())\n",
    "\n",
    "normalized = max_min_normalize(provider.data_frame)\n",
    "\n",
    "print(normalized.head())"
   ]
  },
  {
   "cell_type": "code",
   "execution_count": null,
   "metadata": {},
   "outputs": [],
   "source": [
    "import numpy as np\n",
    "\n",
    "from lib.data.features.transform import log_and_difference, max_min_normalize, difference\n",
    "\n",
    "items = [1, -2, 3, 4, 5]\n",
    "\n",
    "diffed = difference(items, inplace=False)\n",
    "\n",
    "print(diffed)\n",
    "\n",
    "normed = max_min_normalize(logged)\n",
    "\n",
    "print(normed)\n",
    "\n",
    "raveled = np.ravel(normed, order='F')\n",
    "\n",
    "print(raveled)"
   ]
  },
  {
   "cell_type": "code",
   "execution_count": null,
   "metadata": {},
   "outputs": [],
   "source": [
    "# Source: https://jtsulliv.github.io/stock-movement/\n",
    "\n",
    "import numpy as np\n",
    "import matplotlib.pyplot as plt\n",
    "\n",
    "seed = 5      \n",
    "N  = 2.**6     # increments\n",
    "\n",
    "def Brownian(seed, N):\n",
    "    \n",
    "    np.random.seed(seed)                         \n",
    "    dt = 1./N                                    # time step\n",
    "    b = np.random.normal(0., 1., int(N))*np.sqrt(dt)  # brownian increments\n",
    "    W = np.cumsum(b)                             # brownian path\n",
    "    return W, b\n",
    "\n",
    "# GBM Exact Solution\n",
    "\n",
    "# Parameters\n",
    "#\n",
    "# So:     initial stock price\n",
    "# mu:     returns (drift coefficient)\n",
    "# sigma:  volatility (diffusion coefficient)\n",
    "# W:      brownian motion\n",
    "# T:      time period\n",
    "# N:      number of increments\n",
    "\n",
    "def GBM(So, mu, sigma, W, T, N):    \n",
    "    t = np.linspace(0.,1.,N+1)\n",
    "    S = []\n",
    "    S.append(So)\n",
    "    for i in range(1,int(N+1)):\n",
    "        drift = (mu - 0.5 * sigma**2) * t[i]\n",
    "        diffusion = sigma * W[i-1]\n",
    "        S_temp = So*np.exp(drift + diffusion)\n",
    "        S.append(S_temp)\n",
    "    return S, t\n",
    "\n",
    "So = 55.25\n",
    "mu = 0.15\n",
    "sigma = 0.4\n",
    "W = Brownian(seed, N)[0]\n",
    "T = 1.\n",
    "N = 2.**6\n",
    "\n",
    "soln = GBM(So, mu, sigma, W, T, N)[0]    # Exact solution\n",
    "t = GBM(So, mu, sigma, W, T, N)[1]       # time increments for  plotting\n",
    "\n",
    "plt.plot(t, soln)\n",
    "plt.ylabel('Stock Price, $')\n",
    "plt.title('Geometric Brownian Motion')\n",
    "\n",
    "plt.show()"
   ]
  },
  {
   "cell_type": "code",
   "execution_count": 2,
   "metadata": {},
   "outputs": [
    {
     "name": "stdout",
     "output_type": "stream",
     "text": [
      "                         open      high       low     close\n",
      "1970-01-01 00:00:00  0.000000  0.022331 -0.093334 -0.093334\n",
      "1970-01-01 00:01:00 -0.094703 -0.092502 -0.166598 -0.108964\n",
      "1970-01-01 00:02:00 -0.109905 -0.048008 -0.141646 -0.057921\n",
      "1970-01-01 00:03:00 -0.057029  0.014085 -0.101504  0.014085\n",
      "1970-01-01 00:04:00  0.019500  0.040537 -0.023780  0.033475\n",
      "1970-01-01 00:00:00   -0.431402\n",
      "1970-01-01 00:01:00    0.101926\n",
      "1970-01-01 00:02:00    0.109956\n",
      "1970-01-01 00:03:00   -3.048878\n",
      "1970-01-01 00:04:00   -6.020942\n",
      "Freq: T, Name: Volume, dtype: float64\n"
     ]
    },
    {
     "data": {
      "image/png": "[encoded data removed]",
      "text/plain": [
       "<Figure size 432x288 with 1 Axes>"
      ]
     },
     "metadata": {
      "needs_background": "light"
     },
     "output_type": "display_data"
    }
   ],
   "source": [
    "import matplotlib.pyplot as plt\n",
    "from mpl_finance import candlestick2_ohlc\n",
    "\n",
    "from lib.data.providers import ProviderDateFormat, SimulatedDataProvider\n",
    "\n",
    "provider = SimulatedDataProvider(ProviderDateFormat.TIMESTAMP_MS)\n",
    "\n",
    "fig, ax = plt.subplots()\n",
    "candlestick2_ohlc(ax,provider.data_frame['Open'], provider.data_frame['High'], provider.data_frame['Low'], provider.data_frame['Close'], width=0.6)\n",
    "plt.show()"
   ]
  },
  {
   "cell_type": "code",
   "execution_count": null,
   "metadata": {},
   "outputs": [],
   "source": []
  },
  {
   "cell_type": "code",
   "execution_count": null,
   "metadata": {},
   "outputs": [],
   "source": []
  },
  {
   "cell_type": "code",
   "execution_count": null,
   "metadata": {},
   "outputs": [],
   "source": []
  }
 ],
 "metadata": {
  "kernelspec": {
   "display_name": "Python 3",
   "language": "python",
   "name": "python3"
  },
  "language_info": {
   "codemirror_mode": {
    "name": "ipython",
    "version": 3
   },
   "file_extension": ".py",
   "mimetype": "text/x-python",
   "name": "python",
   "nbconvert_exporter": "python",
   "pygments_lexer": "ipython3",
   "version": "3.7.2"
  }
 },
 "nbformat": 4,
 "nbformat_minor": 2
}
